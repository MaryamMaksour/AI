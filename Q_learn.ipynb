{
  "nbformat": 4,
  "nbformat_minor": 0,
  "metadata": {
    "colab": {
      "provenance": []
    },
    "kernelspec": {
      "name": "python3",
      "display_name": "Python 3"
    },
    "language_info": {
      "name": "python"
    }
  },
  "cells": [
    {
      "cell_type": "code",
      "execution_count": null,
      "metadata": {
        "id": "T_XRKajbgqps"
      },
      "outputs": [],
      "source": [
        "import numpy as np"
      ]
    },
    {
      "cell_type": "markdown",
      "source": [
        "الغراف \\\n",
        "-1 مافي طريق\\\n",
        "0 في طريق\\\n",
        "100 بودي للهدف"
      ],
      "metadata": {
        "id": "ODQu0bvyhXCT"
      }
    },
    {
      "cell_type": "code",
      "source": [
        "R = np.matrix(\n",
        "    [\n",
        "        [-1, -1, -1, -1,  0, -1 ],\n",
        "        [-1, -1, -1,  0, -1, 100],\n",
        "        [-1, -1, -1,  0, -1, -1 ],\n",
        "        [-1,  0,  0, -1,  0, -1 ],\n",
        "        [-1,  0,  0, -1, -1, 100],\n",
        "        [-1,  0, -1, -1,  0, 100]\n",
        "\n",
        "    ]\n",
        ")"
      ],
      "metadata": {
        "id": "AVr_Nf7phASZ"
      },
      "execution_count": null,
      "outputs": []
    },
    {
      "cell_type": "markdown",
      "source": [
        "Q matrix for traversing among 6 states (0, -5)"
      ],
      "metadata": {
        "id": "OWyiR3cYiEMi"
      }
    },
    {
      "cell_type": "code",
      "source": [
        "Q = np.matrix(np.zeros([6, 6]))"
      ],
      "metadata": {
        "id": "0IqAcxmGh_N7"
      },
      "execution_count": null,
      "outputs": []
    },
    {
      "cell_type": "markdown",
      "source": [
        "Gamma learning parameter"
      ],
      "metadata": {
        "id": "KT42-RSti06j"
      }
    },
    {
      "cell_type": "code",
      "source": [
        "gamma = 0.8"
      ],
      "metadata": {
        "id": "Dkl9RSusiTdS"
      },
      "execution_count": null,
      "outputs": []
    },
    {
      "cell_type": "code",
      "source": [
        "initial_state = 1  #random"
      ],
      "metadata": {
        "id": "ouGxzNz8i5-J"
      },
      "execution_count": null,
      "outputs": []
    },
    {
      "cell_type": "markdown",
      "source": [
        "retun all available actions in the state given as an argument"
      ],
      "metadata": {
        "id": "IiFqDPtVjAvw"
      }
    },
    {
      "cell_type": "code",
      "source": [
        "def available_actions(state):\n",
        "  current_state_row = R[state, ]\n",
        "  av_act = np.where(current_state_row >= 0)[1]\n",
        "  return av_act"
      ],
      "metadata": {
        "id": "3rVsq-EIi_lW"
      },
      "execution_count": null,
      "outputs": []
    },
    {
      "cell_type": "code",
      "source": [
        "available_act = available_actions(initial_state)"
      ],
      "metadata": {
        "id": "oi1jqVO2jYZ9"
      },
      "execution_count": null,
      "outputs": []
    },
    {
      "cell_type": "markdown",
      "source": [
        "choose randome action to do"
      ],
      "metadata": {
        "id": "vjAgd4fDq8EI"
      }
    },
    {
      "cell_type": "code",
      "source": [
        "def next_action(available_act_range):\n",
        "  next_action = int(np.random.choice(available_act_range, 1))\n",
        "  return next_action"
      ],
      "metadata": {
        "id": "ZC6d30PFkEaJ"
      },
      "execution_count": null,
      "outputs": []
    },
    {
      "cell_type": "code",
      "source": [
        "action = next_action(available_act)"
      ],
      "metadata": {
        "colab": {
          "base_uri": "https://localhost:8080/"
        },
        "id": "Cb0rKKdPrWWZ",
        "outputId": "b7e921d4-8ba0-4f28-93c6-4f70a523284f"
      },
      "execution_count": null,
      "outputs": [
        {
          "output_type": "stream",
          "name": "stderr",
          "text": [
            "<ipython-input-9-5f708e98e3ff>:2: DeprecationWarning: Conversion of an array with ndim > 0 to a scalar is deprecated, and will error in future. Ensure you extract a single element from your array before performing this operation. (Deprecated NumPy 1.25.)\n",
            "  next_action = int(np.random.choice(available_act_range, 1))\n"
          ]
        }
      ]
    },
    {
      "cell_type": "markdown",
      "source": [
        "update Q matrix for this action"
      ],
      "metadata": {
        "id": "ePh-IA_ftJyU"
      }
    },
    {
      "cell_type": "code",
      "source": [
        "def update(cur_state, action, gamma):\n",
        "  max_idx = np.where(Q[action, ] == np.max(Q[action, ]))[1]\n",
        "\n",
        "  # اكتر من قيمة = max\n",
        "  if max_idx.shape[0] > 1:\n",
        "    max_idx = int(np.random.choice(max_idx, size = 1))\n",
        "  else:\n",
        "    max_idx = int(max_idx)\n",
        "\n",
        "  max_val = Q[action, max_idx]\n",
        "\n",
        "  Q[cur_state, action] = R[cur_state, action] + gamma*max_val\n"
      ],
      "metadata": {
        "id": "SysBr3hcreiP"
      },
      "execution_count": null,
      "outputs": []
    },
    {
      "cell_type": "code",
      "source": [
        "update(initial_state, action, gamma)"
      ],
      "metadata": {
        "colab": {
          "base_uri": "https://localhost:8080/"
        },
        "id": "ugWRcp1Itl79",
        "outputId": "bc6e48d4-f4a5-403f-a8db-06aa979a6238"
      },
      "execution_count": null,
      "outputs": [
        {
          "output_type": "stream",
          "name": "stderr",
          "text": [
            "<ipython-input-13-cc1e6de29bd2>:6: DeprecationWarning: Conversion of an array with ndim > 0 to a scalar is deprecated, and will error in future. Ensure you extract a single element from your array before performing this operation. (Deprecated NumPy 1.25.)\n",
            "  max_idx = int(np.random.choice(max_idx, size = 1))\n"
          ]
        }
      ]
    },
    {
      "cell_type": "markdown",
      "source": [
        "# Training phase"
      ],
      "metadata": {
        "id": "VVGUtpGs84mi"
      }
    },
    {
      "cell_type": "code",
      "source": [
        "for i in range(10000):\n",
        "  cur_state = np.random.randint(0, int(Q.shape[0]))\n",
        "  available_act = available_actions(cur_state)\n",
        "  action = next_action(available_act)\n",
        "  update(cur_state, action, gamma)"
      ],
      "metadata": {
        "id": "gbsF9OnpwytF",
        "colab": {
          "base_uri": "https://localhost:8080/"
        },
        "outputId": "94d0ffd2-d771-4fc3-bd4d-6deed5633fb7"
      },
      "execution_count": null,
      "outputs": [
        {
          "output_type": "stream",
          "name": "stderr",
          "text": [
            "<ipython-input-9-5f708e98e3ff>:2: DeprecationWarning: Conversion of an array with ndim > 0 to a scalar is deprecated, and will error in future. Ensure you extract a single element from your array before performing this operation. (Deprecated NumPy 1.25.)\n",
            "  next_action = int(np.random.choice(available_act_range, 1))\n",
            "<ipython-input-13-cc1e6de29bd2>:6: DeprecationWarning: Conversion of an array with ndim > 0 to a scalar is deprecated, and will error in future. Ensure you extract a single element from your array before performing this operation. (Deprecated NumPy 1.25.)\n",
            "  max_idx = int(np.random.choice(max_idx, size = 1))\n",
            "<ipython-input-13-cc1e6de29bd2>:8: DeprecationWarning: Conversion of an array with ndim > 0 to a scalar is deprecated, and will error in future. Ensure you extract a single element from your array before performing this operation. (Deprecated NumPy 1.25.)\n",
            "  max_idx = int(max_idx)\n"
          ]
        }
      ]
    },
    {
      "cell_type": "code",
      "source": [
        "Q"
      ],
      "metadata": {
        "colab": {
          "base_uri": "https://localhost:8080/"
        },
        "id": "gVMAt2LF9i76",
        "outputId": "6090e325-caac-43b9-dd5d-4b88bca3d551"
      },
      "execution_count": null,
      "outputs": [
        {
          "output_type": "execute_result",
          "data": {
            "text/plain": [
              "matrix([[  0.,   0.,   0.,   0., 400.,   0.],\n",
              "        [  0.,   0.,   0., 320.,   0., 500.],\n",
              "        [  0.,   0.,   0., 320.,   0.,   0.],\n",
              "        [  0., 400., 256.,   0., 400.,   0.],\n",
              "        [  0., 400., 256.,   0.,   0., 500.],\n",
              "        [  0., 400.,   0.,   0., 400., 500.]])"
            ]
          },
          "metadata": {},
          "execution_count": 18
        }
      ]
    },
    {
      "cell_type": "markdown",
      "source": [
        "# Testing\n",
        "find the best path from 1 to 5"
      ],
      "metadata": {
        "id": "ys9SWRL89zS1"
      }
    },
    {
      "cell_type": "code",
      "source": [
        "cur_state = 2\n",
        "steps = [cur_state]"
      ],
      "metadata": {
        "id": "Yv4o2FAe9yEY"
      },
      "execution_count": null,
      "outputs": []
    },
    {
      "cell_type": "code",
      "source": [
        "while cur_state != 5:\n",
        "  nxt_step = np.where(Q[cur_state,] == np.max(Q[cur_state,]))[1]\n",
        "\n",
        "  if nxt_step.shape[0] > 1:\n",
        "      nxt_step = int(np.random.choice(nxt_step, size = 1))\n",
        "  else:\n",
        "      nxt_step = int(nxt_step)\n",
        "\n",
        "  steps.append(nxt_step)\n",
        "  cur_state = nxt_step"
      ],
      "metadata": {
        "colab": {
          "base_uri": "https://localhost:8080/"
        },
        "id": "Oc6zFVjY98r1",
        "outputId": "03eb899c-2a8d-482d-b2a5-d7189cb82d28"
      },
      "execution_count": null,
      "outputs": [
        {
          "output_type": "stream",
          "name": "stderr",
          "text": [
            "<ipython-input-25-0d50d35007c4>:7: DeprecationWarning: Conversion of an array with ndim > 0 to a scalar is deprecated, and will error in future. Ensure you extract a single element from your array before performing this operation. (Deprecated NumPy 1.25.)\n",
            "  nxt_step = int(nxt_step)\n",
            "<ipython-input-25-0d50d35007c4>:5: DeprecationWarning: Conversion of an array with ndim > 0 to a scalar is deprecated, and will error in future. Ensure you extract a single element from your array before performing this operation. (Deprecated NumPy 1.25.)\n",
            "  nxt_step = int(np.random.choice(nxt_step, size = 1))\n"
          ]
        }
      ]
    },
    {
      "cell_type": "code",
      "source": [
        "steps"
      ],
      "metadata": {
        "colab": {
          "base_uri": "https://localhost:8080/"
        },
        "id": "TmfU9KNB-2Hv",
        "outputId": "4ac95f0e-53e4-44ed-bf56-3aeb223eae3c"
      },
      "execution_count": null,
      "outputs": [
        {
          "output_type": "execute_result",
          "data": {
            "text/plain": [
              "[2, 3, 1, 5]"
            ]
          },
          "metadata": {},
          "execution_count": 26
        }
      ]
    }
  ]
}