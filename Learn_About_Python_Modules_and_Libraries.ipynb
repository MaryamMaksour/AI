{
  "nbformat": 4,
  "nbformat_minor": 0,
  "metadata": {
    "colab": {
      "provenance": []
    },
    "kernelspec": {
      "name": "python3",
      "display_name": "Python 3"
    },
    "language_info": {
      "name": "python"
    }
  },
  "cells": [
    {
      "cell_type": "markdown",
      "source": [
        "# **Practice Exercises**"
      ],
      "metadata": {
        "id": "7sm2uN6AioX7"
      }
    },
    {
      "cell_type": "markdown",
      "source": [
        "## **Task 1:** Write a Python script that lists all files and directories in the current directory."
      ],
      "metadata": {
        "id": "hL2ewNPviqdQ"
      }
    },
    {
      "cell_type": "code",
      "source": [
        "import os"
      ],
      "metadata": {
        "id": "ZCbgkpnSjDA3"
      },
      "execution_count": 1,
      "outputs": []
    },
    {
      "cell_type": "code",
      "execution_count": 3,
      "metadata": {
        "id": "NuP6fe8Xih41"
      },
      "outputs": [],
      "source": [
        "def list_files():\n",
        "  path = '.'\n",
        "  files = os.listdir(path)\n",
        "\n",
        "  for file in files:\n",
        "    print(file)"
      ]
    },
    {
      "cell_type": "markdown",
      "source": [
        "## **Task 2:** Write a Python script that prints the Python version you are using."
      ],
      "metadata": {
        "id": "v4J1W23CkTd-"
      }
    },
    {
      "cell_type": "code",
      "source": [
        "import sys\n",
        "print(sys.version)"
      ],
      "metadata": {
        "colab": {
          "base_uri": "https://localhost:8080/"
        },
        "id": "PeTreHYikY8R",
        "outputId": "8eb7a2d0-a8ef-4b2b-803f-19c965eb7a8c"
      },
      "execution_count": 4,
      "outputs": [
        {
          "output_type": "stream",
          "name": "stdout",
          "text": [
            "3.10.12 (main, Nov 20 2023, 15:14:05) [GCC 11.4.0]\n"
          ]
        }
      ]
    },
    {
      "cell_type": "markdown",
      "source": [
        "## **Task 3:** Write a Python script that calculates the factorial of a number."
      ],
      "metadata": {
        "id": "Ty_JAnTGkj6j"
      }
    },
    {
      "cell_type": "code",
      "source": [
        "import math\n",
        "\n",
        "print(math.factorial(5))"
      ],
      "metadata": {
        "colab": {
          "base_uri": "https://localhost:8080/"
        },
        "id": "q3fJ_pD2kpPV",
        "outputId": "e67ce5ef-8076-415c-e24b-96db2399de15"
      },
      "execution_count": 5,
      "outputs": [
        {
          "output_type": "stream",
          "name": "stdout",
          "text": [
            "120\n"
          ]
        }
      ]
    },
    {
      "cell_type": "markdown",
      "source": [
        "## **Task 4:** Write a Python script that generates a list of 5 random numbers between 1 and 100."
      ],
      "metadata": {
        "id": "kVrTCNogkwzn"
      }
    },
    {
      "cell_type": "code",
      "source": [
        "import random\n",
        "\n",
        "rand_list = [random.randint(1, 100) for _ in range(5)]\n",
        "\n",
        "rand_list"
      ],
      "metadata": {
        "colab": {
          "base_uri": "https://localhost:8080/"
        },
        "id": "Wl5hh1Qmk5Ow",
        "outputId": "44cda467-8a11-4e0a-ecf4-0c172a1bf3a5"
      },
      "execution_count": 6,
      "outputs": [
        {
          "output_type": "execute_result",
          "data": {
            "text/plain": [
              "[33, 52, 79, 60, 8]"
            ]
          },
          "metadata": {},
          "execution_count": 6
        }
      ]
    },
    {
      "cell_type": "markdown",
      "source": [
        "## **Task 5:** Write a Python script that prints the current date and time"
      ],
      "metadata": {
        "id": "MV7hl1xdlKTQ"
      }
    },
    {
      "cell_type": "code",
      "source": [
        "from datetime import datetime\n",
        "\n",
        "print(f\"current time : {datetime.now()}\")"
      ],
      "metadata": {
        "colab": {
          "base_uri": "https://localhost:8080/"
        },
        "id": "4MLPJbcalObL",
        "outputId": "8a22ea47-8205-4958-c6d1-d253b80a1aa7"
      },
      "execution_count": 7,
      "outputs": [
        {
          "output_type": "stream",
          "name": "stdout",
          "text": [
            "current time : 2024-06-06 17:25:42.149237\n"
          ]
        }
      ]
    },
    {
      "cell_type": "markdown",
      "source": [
        "## ** Task 6: ** Write a Python script that finds all email addresses in a given text."
      ],
      "metadata": {
        "id": "jmsM92hqldJ7"
      }
    },
    {
      "cell_type": "code",
      "source": [
        "import re #regular expression\n",
        "\n",
        "def find_emails(text):\n",
        "\n",
        "  pattern = r'[a-zA-Z0-9._%+-]+@[a-zA-Z0-9.-]+\\.[a-zA-Z]{2,}'\n",
        "  emails = re.findall(pattern, text)\n",
        "\n",
        "  return emails"
      ],
      "metadata": {
        "id": "CHvqGrVclnxe"
      },
      "execution_count": 9,
      "outputs": []
    },
    {
      "cell_type": "code",
      "source": [
        "text = \"Please contact us at support@example.com or sales@example.com.\"\n",
        "print(find_emails(text))"
      ],
      "metadata": {
        "colab": {
          "base_uri": "https://localhost:8080/"
        },
        "id": "wPnkFr80mgBj",
        "outputId": "70cc4ab4-959c-419b-8766-a1872694d68d"
      },
      "execution_count": 10,
      "outputs": [
        {
          "output_type": "stream",
          "name": "stdout",
          "text": [
            "['support@example.com', 'sales@example.com']\n"
          ]
        }
      ]
    },
    {
      "cell_type": "markdown",
      "source": [
        "## **Task 7:** Write a Python script that parses JSON data and prints specific information."
      ],
      "metadata": {
        "id": "mxpC0HlSmpyB"
      }
    },
    {
      "cell_type": "code",
      "source": [
        "import json\n",
        "\n",
        "def parse_json(data):\n",
        "  parsed_data = json.loads(data)\n",
        "\n",
        "  for k , v in parsed_data.items():\n",
        "    print(f\"{k} : {v}\")"
      ],
      "metadata": {
        "id": "y9rrHX1Amv7Y"
      },
      "execution_count": 11,
      "outputs": []
    },
    {
      "cell_type": "code",
      "source": [
        "\n",
        "json_data = '{\"name\": \"Maryam\", \"age\": 24, \"city\": \"Syria\"}'\n",
        "parse_json(json_data)"
      ],
      "metadata": {
        "colab": {
          "base_uri": "https://localhost:8080/"
        },
        "id": "hrVyTDSvmzEx",
        "outputId": "e11743dc-e70b-420b-c4cb-0dbdaa7bd400"
      },
      "execution_count": 13,
      "outputs": [
        {
          "output_type": "stream",
          "name": "stdout",
          "text": [
            "name : Maryam\n",
            "age : 24\n",
            "city : Syria\n"
          ]
        }
      ]
    },
    {
      "cell_type": "markdown",
      "source": [
        "## **Task 8:** Write a Python script that reads data from a CSV file and prints each row.\n"
      ],
      "metadata": {
        "id": "DPx9Rux7nNuo"
      }
    },
    {
      "cell_type": "code",
      "source": [
        "import csv\n",
        "\n",
        "file_path = 'data.csv'\n",
        "\n",
        "with open(file_path, mode = 'r') as file:\n",
        "  reader = csv.reader(file)\n",
        "  for row in reader:\n",
        "    print(row)"
      ],
      "metadata": {
        "id": "1zfmyQAqnWRj"
      },
      "execution_count": null,
      "outputs": []
    },
    {
      "cell_type": "markdown",
      "source": [
        "## **Task 9:** Write a Python script that calculates the mean and median of a list of numbers.\n"
      ],
      "metadata": {
        "id": "5Y2bzgBVnupA"
      }
    },
    {
      "cell_type": "code",
      "source": [
        "import statistics\n",
        "\n",
        "num = [i for i in range(1, 11)]\n",
        "\n",
        "mean = statistics.mean(num)\n",
        "median = statistics.median(num)\n",
        "\n",
        "print(num)\n",
        "print(f\"mean = {mean}, median = {median}\")"
      ],
      "metadata": {
        "colab": {
          "base_uri": "https://localhost:8080/"
        },
        "id": "q-YN-xc3nrw4",
        "outputId": "0e833334-4246-4449-b423-546650922a9b"
      },
      "execution_count": 16,
      "outputs": [
        {
          "output_type": "stream",
          "name": "stdout",
          "text": [
            "[1, 2, 3, 4, 5, 6, 7, 8, 9, 10]\n",
            "mean = 5.5, median = 5.5\n"
          ]
        }
      ]
    },
    {
      "cell_type": "markdown",
      "source": [
        "## **Task 10:** Write a Python script that counts the frequency of elements in a list using collections.Counter.\n"
      ],
      "metadata": {
        "id": "XFjkSX46oVoY"
      }
    },
    {
      "cell_type": "code",
      "source": [
        "from collections import Counter\n",
        "\n",
        "\n",
        "lst = ['apple', 'banana', 'apple', 'orange', 'banana', 'apple']\n",
        "\n",
        "print(Counter(lst))"
      ],
      "metadata": {
        "colab": {
          "base_uri": "https://localhost:8080/"
        },
        "id": "NPEkg6Zvobdk",
        "outputId": "2d62e0a8-e6d0-48c4-e2e9-44ff09ade65f"
      },
      "execution_count": 17,
      "outputs": [
        {
          "output_type": "stream",
          "name": "stdout",
          "text": [
            "Counter({'apple': 3, 'banana': 2, 'orange': 1})\n"
          ]
        }
      ]
    },
    {
      "cell_type": "markdown",
      "source": [
        "## **Task 11:** Write a Python script that generates all possible permutations of a list of numbers.\n"
      ],
      "metadata": {
        "id": "-xPShQsYoxgo"
      }
    },
    {
      "cell_type": "code",
      "source": [
        "import itertools\n",
        "\n",
        "lst = [1, 2, 3]\n",
        "\n",
        "permutations = list(itertools.permutations(lst))\n",
        "print(permutations)"
      ],
      "metadata": {
        "colab": {
          "base_uri": "https://localhost:8080/"
        },
        "id": "NkyazqNSo2hK",
        "outputId": "f4e71cce-8f97-40f4-c878-ca60393bb161"
      },
      "execution_count": 20,
      "outputs": [
        {
          "output_type": "stream",
          "name": "stdout",
          "text": [
            "[(1, 2, 3), (1, 3, 2), (2, 1, 3), (2, 3, 1), (3, 1, 2), (3, 2, 1)]\n"
          ]
        }
      ]
    },
    {
      "cell_type": "markdown",
      "source": [
        "## **Task 12:** Write a Python script that uses functools.reduce to compute the product of a list of numbers.\n"
      ],
      "metadata": {
        "id": "jQlfxg4VpVwF"
      }
    },
    {
      "cell_type": "code",
      "source": [
        "from functools import reduce\n",
        "\n",
        "lst = [1, 2, 3, 4]\n",
        "\n",
        "product = reduce(lambda x, y: x*y, lst)\n",
        "\n",
        "print(product)"
      ],
      "metadata": {
        "colab": {
          "base_uri": "https://localhost:8080/"
        },
        "id": "5sAp2fJRpVMl",
        "outputId": "bfb560ac-dd92-461f-f17e-1893d0aec0b6"
      },
      "execution_count": 21,
      "outputs": [
        {
          "output_type": "stream",
          "name": "stdout",
          "text": [
            "24\n"
          ]
        }
      ]
    },
    {
      "cell_type": "markdown",
      "source": [
        "## **Task 13:** Write a Python script that sorts a list of tuples based on the second element using operator.itemgetter.\n"
      ],
      "metadata": {
        "id": "B6gmlkMops34"
      }
    },
    {
      "cell_type": "code",
      "source": [
        "from operator import itemgetter\n",
        "\n",
        "lst = [(1, 'banana'), (2, 'apple'), (3, 'orange')]\n",
        "\n",
        "sorted_lst = sorted(lst, key = itemgetter(1))\n",
        "\n",
        "print(sorted_lst)"
      ],
      "metadata": {
        "colab": {
          "base_uri": "https://localhost:8080/"
        },
        "id": "2tNfL_E1pxpL",
        "outputId": "def333b9-7d1b-4325-f4fb-391242f4b4f2"
      },
      "execution_count": 22,
      "outputs": [
        {
          "output_type": "stream",
          "name": "stdout",
          "text": [
            "[(2, 'apple'), (1, 'banana'), (3, 'orange')]\n"
          ]
        }
      ]
    }
  ]
}