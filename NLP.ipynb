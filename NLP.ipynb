{
  "nbformat": 4,
  "nbformat_minor": 0,
  "metadata": {
    "colab": {
      "provenance": []
    },
    "kernelspec": {
      "name": "python3",
      "display_name": "Python 3"
    },
    "language_info": {
      "name": "python"
    }
  },
  "cells": [
    {
      "cell_type": "markdown",
      "source": [
        "# sensitive analysis"
      ],
      "metadata": {
        "id": "rjDhUfxB4HS3"
      }
    },
    {
      "cell_type": "code",
      "execution_count": 3,
      "metadata": {
        "id": "OiABHsMu4CBg"
      },
      "outputs": [],
      "source": [
        "from nltk.classify import NaiveBayesClassifier\n",
        "from nltk.corpus import movie_reviews #dataset\n",
        "import nltk"
      ]
    },
    {
      "cell_type": "code",
      "source": [
        "nltk.download('movie_reviews')"
      ],
      "metadata": {
        "colab": {
          "base_uri": "https://localhost:8080/"
        },
        "id": "gFR9LNEMSiq4",
        "outputId": "12db6e72-63b0-458d-8193-da959e783384"
      },
      "execution_count": 4,
      "outputs": [
        {
          "output_type": "stream",
          "name": "stderr",
          "text": [
            "[nltk_data] Downloading package movie_reviews to /root/nltk_data...\n",
            "[nltk_data]   Unzipping corpora/movie_reviews.zip.\n"
          ]
        },
        {
          "output_type": "execute_result",
          "data": {
            "text/plain": [
              "True"
            ]
          },
          "metadata": {},
          "execution_count": 4
        }
      ]
    },
    {
      "cell_type": "code",
      "source": [
        "def extract_features(word_list):\n",
        "    return dict( [ (word, True) for word in word_list ] )"
      ],
      "metadata": {
        "id": "ftLFDaEaSt0C"
      },
      "execution_count": 5,
      "outputs": []
    },
    {
      "cell_type": "code",
      "source": [
        "positive_fileids = movie_reviews.fileids('pos')\n",
        "negative_fileids = movie_reviews.fileids('neg')"
      ],
      "metadata": {
        "id": "HSkyrC1US_DR"
      },
      "execution_count": 8,
      "outputs": []
    },
    {
      "cell_type": "code",
      "source": [
        "features_positive = [ (extract_features(movie_reviews.words(fileids= [f])),'positive')\n",
        "                      for f in positive_fileids\n",
        "                     ]"
      ],
      "metadata": {
        "id": "-DeOOc0pTePg"
      },
      "execution_count": 9,
      "outputs": []
    },
    {
      "cell_type": "code",
      "source": [
        "features_negative = [ (extract_features(movie_reviews.words(fileids= [f])),'negative')\n",
        "                      for f in negative_fileids\n",
        "                     ]"
      ],
      "metadata": {
        "id": "EOU4vSWmUD_C"
      },
      "execution_count": 10,
      "outputs": []
    },
    {
      "cell_type": "markdown",
      "source": [
        "split data 80/20"
      ],
      "metadata": {
        "id": "JCcOx2b-UQEX"
      }
    },
    {
      "cell_type": "code",
      "source": [
        "threshold_factor = 0.8\n",
        "threshold_positive = int( threshold_factor * len (features_positive) )\n",
        "threshold_negative = int( threshold_factor * len (features_negative) )\n",
        "# لاعرف 80% بتشكل كم من الداتا تبعي"
      ],
      "metadata": {
        "id": "AGNlQa8KULuF"
      },
      "execution_count": 11,
      "outputs": []
    },
    {
      "cell_type": "code",
      "source": [
        "\n",
        "features_train = features_positive[:threshold_positive] + features_negative[:threshold_negative]\n",
        "features_test  = features_positive[threshold_positive:] + features_negative[threshold_negative:]\n"
      ],
      "metadata": {
        "id": "VcH9r66WUn4N"
      },
      "execution_count": 13,
      "outputs": []
    },
    {
      "cell_type": "code",
      "source": [
        "len(features_train)"
      ],
      "metadata": {
        "colab": {
          "base_uri": "https://localhost:8080/"
        },
        "id": "UZJkuU27VMPr",
        "outputId": "f186a967-37b8-4bfd-ef7a-5db2a02cbc62"
      },
      "execution_count": 16,
      "outputs": [
        {
          "output_type": "execute_result",
          "data": {
            "text/plain": [
              "1600"
            ]
          },
          "metadata": {},
          "execution_count": 16
        }
      ]
    },
    {
      "cell_type": "code",
      "source": [
        "len(features_test)"
      ],
      "metadata": {
        "colab": {
          "base_uri": "https://localhost:8080/"
        },
        "id": "t5o-coMQVSo9",
        "outputId": "b59e9db5-9738-4b0d-dce1-19508dff0732"
      },
      "execution_count": 17,
      "outputs": [
        {
          "output_type": "execute_result",
          "data": {
            "text/plain": [
              "400"
            ]
          },
          "metadata": {},
          "execution_count": 17
        }
      ]
    },
    {
      "cell_type": "markdown",
      "source": [
        "# Train a Naive Bayes classifier"
      ],
      "metadata": {
        "id": "bV6aajN9VXcC"
      }
    },
    {
      "cell_type": "code",
      "source": [
        "classifier = NaiveBayesClassifier.train(features_train)\n",
        "# يحوي أكثر الكلمات أهمية من خلال التحليل"
      ],
      "metadata": {
        "id": "34W8KjyUVWpj"
      },
      "execution_count": 18,
      "outputs": []
    },
    {
      "cell_type": "code",
      "source": [
        "nltk.classify.util.accuracy(classifier,features_test )"
      ],
      "metadata": {
        "colab": {
          "base_uri": "https://localhost:8080/"
        },
        "id": "P8YIUu6wVkh5",
        "outputId": "9074c69f-1896-488a-8ecc-5a9fff1e334f"
      },
      "execution_count": 21,
      "outputs": [
        {
          "output_type": "execute_result",
          "data": {
            "text/plain": [
              "0.735"
            ]
          },
          "metadata": {},
          "execution_count": 21
        }
      ]
    },
    {
      "cell_type": "code",
      "source": [
        "print(\"Top 10 most informative words: \")\n",
        "for w in  classifier.most_informative_features()[:10]:\n",
        "  print(w[0])"
      ],
      "metadata": {
        "colab": {
          "base_uri": "https://localhost:8080/"
        },
        "id": "TI-ysxYnWCNx",
        "outputId": "5f67e0e6-4e41-4063-c1b8-8b9932ea9a5c"
      },
      "execution_count": 22,
      "outputs": [
        {
          "output_type": "stream",
          "name": "stdout",
          "text": [
            "Top 10 most informative words: \n",
            "outstanding\n",
            "insulting\n",
            "vulnerable\n",
            "ludicrous\n",
            "uninvolving\n",
            "astounding\n",
            "avoids\n",
            "fascination\n",
            "affecting\n",
            "animators\n"
          ]
        }
      ]
    },
    {
      "cell_type": "markdown",
      "source": [
        "manual testing"
      ],
      "metadata": {
        "id": "v4rCnHyTXj6C"
      }
    },
    {
      "cell_type": "code",
      "source": [
        "rev = [\n",
        "    \"it is amazing movie\",\n",
        "    \"this is a dull movie\",\n",
        "    \"it is pathetic\",\n",
        "    \"I loved it\",\n",
        "    \"I hate it\"\n",
        "]"
      ],
      "metadata": {
        "id": "4GeN9DlRWUaV"
      },
      "execution_count": 24,
      "outputs": []
    },
    {
      "cell_type": "code",
      "source": [
        "for r in rev:\n",
        "  print(\"review: \", r)\n",
        "\n",
        "  p = classifier.prob_classify(extract_features(r.split()))\n",
        "  pred_sentiment = p.max()\n",
        "  print(\"predicted : \", pred_sentiment )\n",
        "\n"
      ],
      "metadata": {
        "colab": {
          "base_uri": "https://localhost:8080/"
        },
        "id": "lAN8hjHFX1Rf",
        "outputId": "2f9908ef-60d7-4c97-ae9e-e31f53e1f432"
      },
      "execution_count": 29,
      "outputs": [
        {
          "output_type": "stream",
          "name": "stdout",
          "text": [
            "review:  it is amazing movie\n",
            "predicted :  positive\n",
            "review:  this is a dull movie\n",
            "predicted :  negative\n",
            "review:  it is pathetic\n",
            "predicted :  negative\n",
            "review:  I loved it\n",
            "predicted :  positive\n",
            "review:  I hate it\n",
            "predicted :  positive\n"
          ]
        }
      ]
    }
  ]
}