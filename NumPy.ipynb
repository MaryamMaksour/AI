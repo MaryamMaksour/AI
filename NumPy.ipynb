{
  "nbformat": 4,
  "nbformat_minor": 0,
  "metadata": {
    "colab": {
      "provenance": []
    },
    "kernelspec": {
      "name": "python3",
      "display_name": "Python 3"
    },
    "language_info": {
      "name": "python"
    }
  },
  "cells": [
    {
      "cell_type": "code",
      "execution_count": 1,
      "metadata": {
        "id": "BncdthtMYlz7"
      },
      "outputs": [],
      "source": [
        "import numpy as np"
      ]
    },
    {
      "cell_type": "markdown",
      "source": [
        "## Creating Arrays\n"
      ],
      "metadata": {
        "id": "7j8tw5J7Y-aR"
      }
    },
    {
      "cell_type": "code",
      "source": [
        "array = np.array([1, 2, 3, 4, 5])\n",
        "array"
      ],
      "metadata": {
        "colab": {
          "base_uri": "https://localhost:8080/"
        },
        "id": "wjfpwcN_ZAWl",
        "outputId": "3886349d-3844-4f27-e05d-fad98f3611b0"
      },
      "execution_count": 2,
      "outputs": [
        {
          "output_type": "execute_result",
          "data": {
            "text/plain": [
              "array([1, 2, 3, 4, 5])"
            ]
          },
          "metadata": {},
          "execution_count": 2
        }
      ]
    },
    {
      "cell_type": "markdown",
      "source": [
        "## Array Operations\n"
      ],
      "metadata": {
        "id": "lF3pyz_eZH8U"
      }
    },
    {
      "cell_type": "code",
      "source": [
        "print(f\"array + 10 = {array + 10}\")\n",
        "print(f\"array * 2 = {array * 2}\")\n",
        "print(f\"array ^ 2 = {array ** 2}\")"
      ],
      "metadata": {
        "colab": {
          "base_uri": "https://localhost:8080/"
        },
        "id": "jCDpKqysZHAO",
        "outputId": "1cde5041-d16c-4578-e5ff-e927c1d189f0"
      },
      "execution_count": 4,
      "outputs": [
        {
          "output_type": "stream",
          "name": "stdout",
          "text": [
            "array + 10 = [11 12 13 14 15]\n",
            "array * 2 = [ 2  4  6  8 10]\n",
            "array ^ 2 = [ 1  4  9 16 25]\n"
          ]
        }
      ]
    },
    {
      "cell_type": "markdown",
      "source": [
        "## Reshaping Arrays\n"
      ],
      "metadata": {
        "id": "8aevxqVkZiNh"
      }
    },
    {
      "cell_type": "code",
      "source": [
        "array = np.arange(1, 10)\n",
        "\n",
        "reshaped_array = array.reshape(3, 3)\n",
        "\n",
        "reshaped_array"
      ],
      "metadata": {
        "colab": {
          "base_uri": "https://localhost:8080/"
        },
        "id": "s1f5yVZDZjlA",
        "outputId": "07e0cb97-d591-4944-a8de-4216fd20ee4f"
      },
      "execution_count": 49,
      "outputs": [
        {
          "output_type": "execute_result",
          "data": {
            "text/plain": [
              "array([[1, 2, 3],\n",
              "       [4, 5, 6],\n",
              "       [7, 8, 9]])"
            ]
          },
          "metadata": {},
          "execution_count": 49
        }
      ]
    },
    {
      "cell_type": "code",
      "source": [
        "array = np.arange(1, 10)\n",
        "print(array.flatten())"
      ],
      "metadata": {
        "colab": {
          "base_uri": "https://localhost:8080/"
        },
        "id": "zQKx0KsWjJ9d",
        "outputId": "4f0eca8d-d98d-431a-a07c-bf9efd6c06ae"
      },
      "execution_count": 48,
      "outputs": [
        {
          "output_type": "stream",
          "name": "stdout",
          "text": [
            "[1 2 3 4 5 6 7 8 9]\n"
          ]
        }
      ]
    },
    {
      "cell_type": "markdown",
      "source": [
        "## Sum, Mean, and Standard Deviation\n"
      ],
      "metadata": {
        "id": "NxLpd433Z0p_"
      }
    },
    {
      "cell_type": "code",
      "source": [
        "array = np.arange(1, 6)\n",
        "\n",
        "print(f\"array = {array}\")\n",
        "\n",
        "print(f\"sum = {np.sum(array)}\")\n",
        "print(f\"mean = {np.mean(array)}\")\n",
        "print(f\"Standard Deviation = {np.std(array)}\")\n"
      ],
      "metadata": {
        "colab": {
          "base_uri": "https://localhost:8080/"
        },
        "id": "FYuBGBxkZ1-G",
        "outputId": "95c147ab-eead-4c7b-8720-3fd8b3d200b1"
      },
      "execution_count": 50,
      "outputs": [
        {
          "output_type": "stream",
          "name": "stdout",
          "text": [
            "array = [1 2 3 4 5]\n",
            "sum = 15\n",
            "mean = 3.0\n",
            "Standard Deviation = 1.4142135623730951\n"
          ]
        }
      ]
    },
    {
      "cell_type": "code",
      "source": [
        "# Finding the sum of all the elements in an Array:\n",
        "MyArray = np.arange(1, 13).reshape(3, 4)\n",
        "print(MyArray)\n",
        "\n",
        "print(\"\\nThe sum of all the elements in the array MyArray is:\",MyArray.sum())\n",
        "print(\"\\nThe sum of all the elements of each row of the array MyArray is:\",MyArray.sum(axis=0))\n",
        "print(\"\\nThe sum of all the elements of each column of the array MyArray is:\",MyArray.sum(axis=1))\n",
        "print(\"\\nThe sum of all the elements of the 3rd column of the array MyArray is:\",MyArray[:,2].sum())"
      ],
      "metadata": {
        "colab": {
          "base_uri": "https://localhost:8080/"
        },
        "id": "Si_yjHCoj0z_",
        "outputId": "2967f649-098c-47df-9ab6-dee2560d2c7e"
      },
      "execution_count": 55,
      "outputs": [
        {
          "output_type": "stream",
          "name": "stdout",
          "text": [
            "[[ 1  2  3  4]\n",
            " [ 5  6  7  8]\n",
            " [ 9 10 11 12]]\n",
            "\n",
            "The sum of all the elements in the array MyArray is: 78\n",
            "\n",
            "The sum of all the elements of each row of the array MyArray is: [15 18 21 24]\n",
            "\n",
            "The sum of all the elements of each column of the array MyArray is: [10 26 42]\n",
            "\n",
            "The sum of all the elements of the 3rd column of the array MyArray is: 21\n"
          ]
        }
      ]
    },
    {
      "cell_type": "code",
      "source": [
        "# Finding the minimum value of all the elements in an Array:\n",
        "MyArray = np.array([[1,2,3,7],[5,-6,7,8],[9,10,11,12],[13,14,15,16]])\n",
        "print(MyArray)\n",
        "\n",
        "print(\"\\nThe minimum value of all the elements in the array MyArray is:\",MyArray.min())\n",
        "print(\"\\nThe minimum value of all the elements of each row of the array MyArray is:\",MyArray.min(axis=0))\n",
        "print(\"\\nThe minimum value of all the elements of each column of the array MyArray is:\",MyArray.min(axis=1))\n",
        "print(\"\\nThe minimum value of all the elements of the 2nd row of the array MyArray is:\",MyArray[1,:].min())"
      ],
      "metadata": {
        "colab": {
          "base_uri": "https://localhost:8080/"
        },
        "id": "ktsFhj9BkZDP",
        "outputId": "add6adf0-8e2b-4b24-c76a-8fd424085941"
      },
      "execution_count": 57,
      "outputs": [
        {
          "output_type": "stream",
          "name": "stdout",
          "text": [
            "[[ 1  2  3  7]\n",
            " [ 5 -6  7  8]\n",
            " [ 9 10 11 12]\n",
            " [13 14 15 16]]\n",
            "\n",
            "The minimum value of all the elements in the array MyArray is: -6\n",
            "\n",
            "The minimum value of all the elements of each row of the array MyArray is: [ 1 -6  3  7]\n",
            "\n",
            "The minimum value of all the elements of each column of the array MyArray is: [ 1 -6  9 13]\n",
            "\n",
            "The minimum value of all the elements of the 2nd row of the array MyArray is: -6\n"
          ]
        }
      ]
    },
    {
      "cell_type": "markdown",
      "source": [
        "## Create a 4x4 Identity Matrix"
      ],
      "metadata": {
        "id": "k4sLChv9aRIw"
      }
    },
    {
      "cell_type": "code",
      "source": [
        "iden_mat = np.eye(4)\n",
        "iden_mat"
      ],
      "metadata": {
        "colab": {
          "base_uri": "https://localhost:8080/"
        },
        "id": "Kv8OiytZaS8I",
        "outputId": "c1f43a57-cf5a-420f-bf01-db70466dfea5"
      },
      "execution_count": 11,
      "outputs": [
        {
          "output_type": "execute_result",
          "data": {
            "text/plain": [
              "array([[1., 0., 0., 0.],\n",
              "       [0., 1., 0., 0.],\n",
              "       [0., 0., 1., 0.],\n",
              "       [0., 0., 0., 1.]])"
            ]
          },
          "metadata": {},
          "execution_count": 11
        }
      ]
    },
    {
      "cell_type": "markdown",
      "source": [
        "## Generate an Array of 5 Random Numbers Between 0 and 1"
      ],
      "metadata": {
        "id": "65zdoAqUagI5"
      }
    },
    {
      "cell_type": "code",
      "source": [
        "rand_arr = np.random.random(5)\n",
        "rand_arr"
      ],
      "metadata": {
        "colab": {
          "base_uri": "https://localhost:8080/"
        },
        "id": "yHgXuqlfahji",
        "outputId": "add75eec-86db-40a8-8ba9-326467206930"
      },
      "execution_count": 24,
      "outputs": [
        {
          "output_type": "execute_result",
          "data": {
            "text/plain": [
              "array([0.9039542 , 0.9484113 , 0.69221572, 0.5362541 , 0.30094362])"
            ]
          },
          "metadata": {},
          "execution_count": 24
        }
      ]
    },
    {
      "cell_type": "markdown",
      "source": [
        "random int number between 1 and 10 with shape (3, 3)"
      ],
      "metadata": {
        "id": "RdAST-fsejx3"
      }
    },
    {
      "cell_type": "code",
      "source": [
        "arr = np.random.randint(1, 11, (3, 3))\n",
        "arr"
      ],
      "metadata": {
        "colab": {
          "base_uri": "https://localhost:8080/"
        },
        "id": "MvNsdTdgeqtb",
        "outputId": "c031a5d5-1ecd-4f91-a158-729f17b09ccc"
      },
      "execution_count": 25,
      "outputs": [
        {
          "output_type": "execute_result",
          "data": {
            "text/plain": [
              "array([[ 1,  1,  3],\n",
              "       [ 3,  8, 10],\n",
              "       [10,  4,  4]])"
            ]
          },
          "metadata": {},
          "execution_count": 25
        }
      ]
    },
    {
      "cell_type": "markdown",
      "source": [
        "## Create a 3x3 Matrix with Values Ranging from 0 to 8"
      ],
      "metadata": {
        "id": "VXGhbah1bWCN"
      }
    },
    {
      "cell_type": "code",
      "source": [
        "mat = np.arange(9).reshape(3, 3)\n",
        "mat"
      ],
      "metadata": {
        "colab": {
          "base_uri": "https://localhost:8080/"
        },
        "id": "4iNQLbT4bXLq",
        "outputId": "5a69c710-10ed-4e98-db89-f37cf540c6c9"
      },
      "execution_count": 13,
      "outputs": [
        {
          "output_type": "execute_result",
          "data": {
            "text/plain": [
              "array([[0, 1, 2],\n",
              "       [3, 4, 5],\n",
              "       [6, 7, 8]])"
            ]
          },
          "metadata": {},
          "execution_count": 13
        }
      ]
    },
    {
      "cell_type": "code",
      "source": [
        "mat = np.arange(start = 2, stop = 11, step = 2)\n",
        "mat"
      ],
      "metadata": {
        "colab": {
          "base_uri": "https://localhost:8080/"
        },
        "id": "izWt08LtdLMy",
        "outputId": "a33f90e8-c6bc-4e9e-db88-822dac657f01"
      },
      "execution_count": 15,
      "outputs": [
        {
          "output_type": "execute_result",
          "data": {
            "text/plain": [
              "array([ 2,  4,  6,  8, 10])"
            ]
          },
          "metadata": {},
          "execution_count": 15
        }
      ]
    },
    {
      "cell_type": "markdown",
      "source": [
        "## Create a Random Vector of Size 10 and Sort It"
      ],
      "metadata": {
        "id": "x4jw9Yc3bf-C"
      }
    },
    {
      "cell_type": "code",
      "source": [
        "v = np.random.random(10)\n",
        "sort_v = np.sort(v)\n",
        "\n",
        "print(f\"v = {v}\")\n",
        "print(f\"sorted v = {sort_v}\")"
      ],
      "metadata": {
        "colab": {
          "base_uri": "https://localhost:8080/"
        },
        "id": "QjpGsJe4bg-d",
        "outputId": "43f1e8db-a530-4691-fca3-586455bd7518"
      },
      "execution_count": 14,
      "outputs": [
        {
          "output_type": "stream",
          "name": "stdout",
          "text": [
            "v = [0.24470133 0.72325069 0.73709933 0.42488594 0.62486928 0.5151607\n",
            " 0.21155786 0.78968836 0.85384985 0.83089883]\n",
            "sorted v = [0.21155786 0.24470133 0.42488594 0.5151607  0.62486928 0.72325069\n",
            " 0.73709933 0.78968836 0.83089883 0.85384985]\n"
          ]
        }
      ]
    },
    {
      "cell_type": "markdown",
      "source": [
        "## creates an array with a range of elements from start to stop with 'num' number of elements.\n"
      ],
      "metadata": {
        "id": "PRvL7uDKddKY"
      }
    },
    {
      "cell_type": "code",
      "source": [
        "#Endpoint includes the last element or not\n",
        "\n",
        "arr1 = np.linspace(start = 0, stop = 1, num = 5, endpoint = True)\n",
        "print(arr1)\n",
        "\n",
        "arr2 = np.linspace(start = 0, stop = 1, num = 5, endpoint = False)\n",
        "print(arr2)"
      ],
      "metadata": {
        "colab": {
          "base_uri": "https://localhost:8080/"
        },
        "id": "4-x-HAXAdhrf",
        "outputId": "ec0566ca-7937-4f76-e4fd-7cca94b1cc3f"
      },
      "execution_count": 18,
      "outputs": [
        {
          "output_type": "stream",
          "name": "stdout",
          "text": [
            "[0.   0.25 0.5  0.75 1.  ]\n",
            "[0.  0.2 0.4 0.6 0.8]\n"
          ]
        }
      ]
    },
    {
      "cell_type": "markdown",
      "source": [
        "## use copy"
      ],
      "metadata": {
        "id": "Y91ugMnUe3pW"
      }
    },
    {
      "cell_type": "code",
      "source": [
        "arr3 = arr2\n",
        "\n",
        "arr3[0] = 3\n",
        "arr2"
      ],
      "metadata": {
        "colab": {
          "base_uri": "https://localhost:8080/"
        },
        "id": "mBaE49foe5eY",
        "outputId": "116f4c12-4b0b-4a88-ef32-1db48b52bf2d"
      },
      "execution_count": 26,
      "outputs": [
        {
          "output_type": "execute_result",
          "data": {
            "text/plain": [
              "array([3. , 0.2, 0.4, 0.6, 0.8])"
            ]
          },
          "metadata": {},
          "execution_count": 26
        }
      ]
    },
    {
      "cell_type": "code",
      "source": [
        "A = np.random.randint(1, 51, (2, 2))\n",
        "\n",
        "print(f\"A= {A}\\n\")\n",
        "\n",
        "B = A.copy()\n",
        "\n",
        "B[0,0] = 100\n",
        "print(f\"B = {B}\\n\")\n",
        "print(f\"A after copy {A}\")"
      ],
      "metadata": {
        "colab": {
          "base_uri": "https://localhost:8080/"
        },
        "id": "T6b9kDnifJNh",
        "outputId": "778afbce-5aa8-41de-c65c-26c435ccc46e"
      },
      "execution_count": 29,
      "outputs": [
        {
          "output_type": "stream",
          "name": "stdout",
          "text": [
            "A= [[22 35]\n",
            " [25 41]]\n",
            "\n",
            "B = [[100  35]\n",
            " [ 25  41]]\n",
            "\n",
            "A after copy [[22 35]\n",
            " [25 41]]\n"
          ]
        }
      ]
    },
    {
      "cell_type": "markdown",
      "source": [
        "<h2>Adding elements<h2>\n",
        "\n",
        "To add elements to a NumPy Array, we can use:\n",
        "* np.append()\n",
        "* np.insert()\n",
        "* np.concatenate()"
      ],
      "metadata": {
        "id": "Zb_4VgbsfwF7"
      }
    },
    {
      "cell_type": "code",
      "source": [
        "arr = np.arange(9).reshape(3, 3)\n",
        "arr"
      ],
      "metadata": {
        "colab": {
          "base_uri": "https://localhost:8080/"
        },
        "id": "0oFZFvKgfyEr",
        "outputId": "cd1150ff-0442-47da-9f48-aedfcdc39fde"
      },
      "execution_count": 31,
      "outputs": [
        {
          "output_type": "execute_result",
          "data": {
            "text/plain": [
              "array([[0, 1, 2],\n",
              "       [3, 4, 5],\n",
              "       [6, 7, 8]])"
            ]
          },
          "metadata": {},
          "execution_count": 31
        }
      ]
    },
    {
      "cell_type": "markdown",
      "source": [
        "### np.append() flattens the array and adds the new elements at the end of the array"
      ],
      "metadata": {
        "id": "YIb4DsgOgOWe"
      }
    },
    {
      "cell_type": "code",
      "source": [
        "arr2 = np.append(arr, [9, 10, 11])\n",
        "arr2"
      ],
      "metadata": {
        "colab": {
          "base_uri": "https://localhost:8080/"
        },
        "id": "j5t8jF44gDLL",
        "outputId": "a2845ba0-b9bb-4144-f45d-8d1c329a5b08"
      },
      "execution_count": 32,
      "outputs": [
        {
          "output_type": "execute_result",
          "data": {
            "text/plain": [
              "array([ 0,  1,  2,  3,  4,  5,  6,  7,  8,  9, 10, 11])"
            ]
          },
          "metadata": {},
          "execution_count": 32
        }
      ]
    },
    {
      "cell_type": "markdown",
      "source": [
        "### np.insert()\n",
        "#### flattens the array and adds the new elements before the idx index here\n",
        "\n",
        " #### or change axis from none to 0 or 1"
      ],
      "metadata": {
        "id": "-3s4NwJagiaP"
      }
    },
    {
      "cell_type": "code",
      "source": [
        "idx = 2\n",
        "arr3 = np.insert(arr, idx, [9, 10, 11])\n",
        "arr3"
      ],
      "metadata": {
        "colab": {
          "base_uri": "https://localhost:8080/"
        },
        "id": "5K91Ng3agRHu",
        "outputId": "e8d3ac03-0a5b-42bd-a2af-a85238d593a8"
      },
      "execution_count": 33,
      "outputs": [
        {
          "output_type": "execute_result",
          "data": {
            "text/plain": [
              "array([ 0,  1,  9, 10, 11,  2,  3,  4,  5,  6,  7,  8])"
            ]
          },
          "metadata": {},
          "execution_count": 33
        }
      ]
    },
    {
      "cell_type": "code",
      "source": [
        "arr4 = np.insert(arr, idx, [9, 10, 11], axis = 0)\n",
        "arr4"
      ],
      "metadata": {
        "colab": {
          "base_uri": "https://localhost:8080/"
        },
        "id": "6wG-O_SJgkGT",
        "outputId": "8d98d2f2-307c-4415-841b-3149f5b81e8c"
      },
      "execution_count": 34,
      "outputs": [
        {
          "output_type": "execute_result",
          "data": {
            "text/plain": [
              "array([[ 0,  1,  2],\n",
              "       [ 3,  4,  5],\n",
              "       [ 9, 10, 11],\n",
              "       [ 6,  7,  8]])"
            ]
          },
          "metadata": {},
          "execution_count": 34
        }
      ]
    },
    {
      "cell_type": "code",
      "source": [
        "arr5 = np.insert(arr, idx, [9, 10, 11], axis = 1)\n",
        "arr5"
      ],
      "metadata": {
        "colab": {
          "base_uri": "https://localhost:8080/"
        },
        "id": "I9qJpjuChDKk",
        "outputId": "9fbef4e7-d4a8-4800-d2a1-8c5ccd43d5ea"
      },
      "execution_count": 35,
      "outputs": [
        {
          "output_type": "execute_result",
          "data": {
            "text/plain": [
              "array([[ 0,  1,  9,  2],\n",
              "       [ 3,  4, 10,  5],\n",
              "       [ 6,  7, 11,  8]])"
            ]
          },
          "metadata": {},
          "execution_count": 35
        }
      ]
    },
    {
      "cell_type": "markdown",
      "source": [
        "### np.concatenate() concatenates 2 NumPy arrays together"
      ],
      "metadata": {
        "id": "-vm63HgnhLJG"
      }
    },
    {
      "cell_type": "code",
      "source": [
        "x = np.array([[1,2],\n",
        "              [3,4]])\n",
        "\n",
        "y = np.array([[5,6],\n",
        "              [7,8]])\n"
      ],
      "metadata": {
        "id": "QGGN3ztGhNE-"
      },
      "execution_count": 36,
      "outputs": []
    },
    {
      "cell_type": "code",
      "source": [
        "\n",
        "z = np.concatenate((x, y), axis = 0) # default = 0\n",
        "z"
      ],
      "metadata": {
        "colab": {
          "base_uri": "https://localhost:8080/"
        },
        "id": "MPJ4-oPphXZV",
        "outputId": "f3deff2b-06ff-48dc-cc2b-118407dec85a"
      },
      "execution_count": 37,
      "outputs": [
        {
          "output_type": "execute_result",
          "data": {
            "text/plain": [
              "array([[1, 2],\n",
              "       [3, 4],\n",
              "       [5, 6],\n",
              "       [7, 8]])"
            ]
          },
          "metadata": {},
          "execution_count": 37
        }
      ]
    },
    {
      "cell_type": "code",
      "source": [
        "\n",
        "w = np.concatenate((x, y), axis = 1)\n",
        "w"
      ],
      "metadata": {
        "colab": {
          "base_uri": "https://localhost:8080/"
        },
        "id": "aDyhmPGLhZUN",
        "outputId": "df4d44f1-93fd-4054-83e2-66ee4394ac81"
      },
      "execution_count": 38,
      "outputs": [
        {
          "output_type": "execute_result",
          "data": {
            "text/plain": [
              "array([[1, 2, 5, 6],\n",
              "       [3, 4, 7, 8]])"
            ]
          },
          "metadata": {},
          "execution_count": 38
        }
      ]
    },
    {
      "cell_type": "markdown",
      "source": [
        "### We can also use np.hstack() and np.vstack()"
      ],
      "metadata": {
        "id": "sSQwkw8ShlOL"
      }
    },
    {
      "cell_type": "code",
      "source": [
        "x = np.array([[1,2],[3,4]])\n",
        "y = np.array([[5,6],[7,8]])\n",
        "\n",
        "z = np.vstack((x,y))\n",
        "print(z)\n",
        "\n",
        "z = np.hstack((x,y))\n",
        "print(z)"
      ],
      "metadata": {
        "colab": {
          "base_uri": "https://localhost:8080/"
        },
        "id": "ftYjdD4GhnSz",
        "outputId": "f456e028-b9ee-4a49-fd2b-303edae97a2d"
      },
      "execution_count": 39,
      "outputs": [
        {
          "output_type": "stream",
          "name": "stdout",
          "text": [
            "[[1 2]\n",
            " [3 4]\n",
            " [5 6]\n",
            " [7 8]]\n",
            "[[1 2 5 6]\n",
            " [3 4 7 8]]\n"
          ]
        }
      ]
    },
    {
      "cell_type": "markdown",
      "source": [
        "\n",
        "\n",
        "\n",
        "<h2>Deleting Elements<h2>\n",
        "\n",
        "We use np.delete()\\\n",
        "np.delete() flattens the array first and then deletes the element at the idx index here!\\\n",
        "\n",
        "to delete row make axis = 0\n",
        "to delet column make axis = 1"
      ],
      "metadata": {
        "id": "lWN31KAfiIOp"
      }
    },
    {
      "cell_type": "code",
      "source": [
        "a = np.array([[1,2,3],[4,5,6],[7,8,9]]) # [1, 2, 3, 4, 5, 6, 7, 8, 9]\n",
        "print(a)\n",
        "idx = 2\n",
        "b = np.delete(a,idx)\n",
        "print(b)"
      ],
      "metadata": {
        "colab": {
          "base_uri": "https://localhost:8080/"
        },
        "id": "IqE3ADguiMXM",
        "outputId": "c93b51bd-3a3e-43cb-f3f8-c06b3134ce2f"
      },
      "execution_count": 40,
      "outputs": [
        {
          "output_type": "stream",
          "name": "stdout",
          "text": [
            "[[1 2 3]\n",
            " [4 5 6]\n",
            " [7 8 9]]\n",
            "[1 2 4 5 6 7 8 9]\n"
          ]
        }
      ]
    },
    {
      "cell_type": "code",
      "source": [
        "a_del_row = np.delete(a,2,axis=0)\n",
        "print(a_del_row)"
      ],
      "metadata": {
        "colab": {
          "base_uri": "https://localhost:8080/"
        },
        "id": "HjfyVuiTigUS",
        "outputId": "cd6c02ca-e2ad-4078-abee-9b74e5c1b0de"
      },
      "execution_count": 42,
      "outputs": [
        {
          "output_type": "stream",
          "name": "stdout",
          "text": [
            "[[1 2 3]\n",
            " [4 5 6]]\n"
          ]
        }
      ]
    },
    {
      "cell_type": "code",
      "source": [
        "a_del_col = np.delete(a,2,axis=1)\n",
        "print(a_del_col)"
      ],
      "metadata": {
        "colab": {
          "base_uri": "https://localhost:8080/"
        },
        "id": "PwE7ue21iz8o",
        "outputId": "cfcb3785-b4c4-4484-fd9a-28eebfae151e"
      },
      "execution_count": 43,
      "outputs": [
        {
          "output_type": "stream",
          "name": "stdout",
          "text": [
            "[[1 2]\n",
            " [4 5]\n",
            " [7 8]]\n"
          ]
        }
      ]
    },
    {
      "cell_type": "markdown",
      "source": [
        "<h2>Accessing Array Attributes<h2>\n",
        "\n",
        "There are 3 main Array Attributes that are important to know and will be useful:\n",
        "* ndarray.ndim\n",
        "* ndarray.size\n",
        "* ndarray.shape"
      ],
      "metadata": {
        "id": "rExByXQli-0a"
      }
    },
    {
      "cell_type": "code",
      "source": [
        "MyArray = np.array([[1,2,3],[4,5,6],[7,8,9]])\n",
        "print(MyArray)\n",
        "\n",
        "print(\"The number of dimensions of my array is:\",MyArray.ndim)\n",
        "print(\"The size (the total amount of elements) of my array is:\",MyArray.size)\n",
        "print(\"The shape of my array is:\",MyArray.shape)"
      ],
      "metadata": {
        "colab": {
          "base_uri": "https://localhost:8080/"
        },
        "id": "0zg358R4i_kR",
        "outputId": "0529fada-f51d-4a38-fdd2-eeae41cdaedb"
      },
      "execution_count": 44,
      "outputs": [
        {
          "output_type": "stream",
          "name": "stdout",
          "text": [
            "[[1 2 3]\n",
            " [4 5 6]\n",
            " [7 8 9]]\n",
            "The number of dimensions of my array is: 2\n",
            "The size (the total amount of elements) of my array is: 9\n",
            "The shape of my array is: (3, 3)\n"
          ]
        }
      ]
    },
    {
      "cell_type": "markdown",
      "source": [
        "# <h2>Transposing an array<h2>\n",
        "\n",
        "You can transpose an array with nparray.transpose() and nparray.T\n"
      ],
      "metadata": {
        "id": "e5P50CW5jjQv"
      }
    },
    {
      "cell_type": "code",
      "source": [
        "# Transposing an Array:\n",
        "MyArray = np.array([[1,2,3,4],[5,6,7,8],[9,10,11,12],[13,14,15,16]])\n",
        "print(MyArray)\n",
        "\n",
        "print(\"\\nThe tranpose of MyArray is:\\n\",MyArray.transpose())\n",
        "\n",
        "print(\"\\nThe tranpose of MyArray can be done with MyArray.T and gives us:\\n\",MyArray.T)\n"
      ],
      "metadata": {
        "colab": {
          "base_uri": "https://localhost:8080/"
        },
        "id": "lE5DIoMmjkDu",
        "outputId": "b75da02b-d676-48ae-9978-9f3e561f3258"
      },
      "execution_count": 52,
      "outputs": [
        {
          "output_type": "stream",
          "name": "stdout",
          "text": [
            "[[ 1  2  3  4]\n",
            " [ 5  6  7  8]\n",
            " [ 9 10 11 12]\n",
            " [13 14 15 16]]\n",
            "\n",
            "The tranpose of MyArray is:\n",
            " [[ 1  5  9 13]\n",
            " [ 2  6 10 14]\n",
            " [ 3  7 11 15]\n",
            " [ 4  8 12 16]]\n",
            "\n",
            "The tranpose of MyArray can be done with MyArray.T and gives us:\n",
            " [[ 1  5  9 13]\n",
            " [ 2  6 10 14]\n",
            " [ 3  7 11 15]\n",
            " [ 4  8 12 16]]\n"
          ]
        }
      ]
    },
    {
      "cell_type": "markdown",
      "source": [
        "<h2>See all the unique values in an array and their counts using np.unique()<h2>"
      ],
      "metadata": {
        "id": "oEgridkMkj-s"
      }
    },
    {
      "cell_type": "code",
      "source": [
        "arr =  np.array([1,1,1,2,2,3,3,3,3,4,5,5,5])\n",
        "\n",
        "unq = np.unique(arr)\n",
        "unq"
      ],
      "metadata": {
        "colab": {
          "base_uri": "https://localhost:8080/"
        },
        "id": "O0GUQ4HgknT5",
        "outputId": "b1a8a118-cf20-4e0d-b3f8-5e9f6dbe5da8"
      },
      "execution_count": 58,
      "outputs": [
        {
          "output_type": "execute_result",
          "data": {
            "text/plain": [
              "array([1, 2, 3, 4, 5])"
            ]
          },
          "metadata": {},
          "execution_count": 58
        }
      ]
    },
    {
      "cell_type": "code",
      "source": [
        "unq, cnt = np.unique(arr, return_counts = True)\n",
        "print(cnt)"
      ],
      "metadata": {
        "colab": {
          "base_uri": "https://localhost:8080/"
        },
        "id": "js_ymoXykz8e",
        "outputId": "c0603cf1-95d3-4dde-e8e0-08372a4a2a78"
      },
      "execution_count": 59,
      "outputs": [
        {
          "output_type": "stream",
          "name": "stdout",
          "text": [
            "[3 2 4 1 3]\n"
          ]
        }
      ]
    },
    {
      "cell_type": "markdown",
      "source": [
        "<h2>Conditional Selection<h2>\n",
        "\n",
        "Finding the elements that meet certain condition(s).\n",
        "\n",
        "To do this, you:\n",
        "1.   generate a mask from your conditions\n",
        "2.   use the mask to index the values that meet the condition\n",
        "\n",
        "Let's take a look at how to do it:"
      ],
      "metadata": {
        "id": "31pvukC5lKfF"
      }
    },
    {
      "cell_type": "code",
      "source": [
        "#Find all the even numbered elements in the array that is greater than 6:\n",
        "\n",
        "MyArray = np.array([[1,2,3,4],[5,6,7,8],[9,10,11,12],[13,14,15,16]])\n",
        "print(MyArray)\n",
        "\n",
        "# First, we generate our mask that meets our conditions (condition 1: even, condition 2: > 6):\n",
        "mask = (MyArray%2==0) & (MyArray > 6)\n",
        "print(mask)\n"
      ],
      "metadata": {
        "colab": {
          "base_uri": "https://localhost:8080/"
        },
        "id": "lUSwrAoPlL_g",
        "outputId": "a754b903-7490-4af4-aea5-56489664d77d"
      },
      "execution_count": 60,
      "outputs": [
        {
          "output_type": "stream",
          "name": "stdout",
          "text": [
            "[[ 1  2  3  4]\n",
            " [ 5  6  7  8]\n",
            " [ 9 10 11 12]\n",
            " [13 14 15 16]]\n",
            "[[False False False False]\n",
            " [False False False  True]\n",
            " [False  True False  True]\n",
            " [False  True False  True]]\n"
          ]
        }
      ]
    },
    {
      "cell_type": "code",
      "source": [
        "# Second, we use this mask as an index to get the values that meet our conditions:\n",
        "selected = MyArray[mask]\n",
        "print(selected)"
      ],
      "metadata": {
        "colab": {
          "base_uri": "https://localhost:8080/"
        },
        "id": "EPLJDUG6lQxl",
        "outputId": "7d5aa919-2eda-4f6f-f38c-a6a4b4805fe5"
      },
      "execution_count": 61,
      "outputs": [
        {
          "output_type": "stream",
          "name": "stdout",
          "text": [
            "[ 8 10 12 14 16]\n"
          ]
        }
      ]
    }
  ]
}